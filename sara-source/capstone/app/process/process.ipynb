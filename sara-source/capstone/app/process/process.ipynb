{
 "cells": [
  {
   "cell_type": "code",
   "execution_count": 1,
   "metadata": {},
   "outputs": [
    {
     "ename": "ImportError",
     "evalue": "No module named 'librosa'",
     "output_type": "error",
     "traceback": [
      "\u001b[0;31m---------------------------------------------------------------------------\u001b[0m",
      "\u001b[0;31mImportError\u001b[0m                               Traceback (most recent call last)",
      "\u001b[0;32m<ipython-input-1-c7d5dfe0c8d7>\u001b[0m in \u001b[0;36m<module>\u001b[0;34m\u001b[0m\n\u001b[1;32m      3\u001b[0m \u001b[0;32mimport\u001b[0m \u001b[0mmatplotlib\u001b[0m\u001b[0;34m.\u001b[0m\u001b[0mpyplot\u001b[0m \u001b[0;32mas\u001b[0m \u001b[0mplt\u001b[0m\u001b[0;34m\u001b[0m\u001b[0m\n\u001b[1;32m      4\u001b[0m \u001b[0mget_ipython\u001b[0m\u001b[0;34m(\u001b[0m\u001b[0;34m)\u001b[0m\u001b[0;34m.\u001b[0m\u001b[0mrun_line_magic\u001b[0m\u001b[0;34m(\u001b[0m\u001b[0;34m'matplotlib'\u001b[0m\u001b[0;34m,\u001b[0m \u001b[0;34m'inline'\u001b[0m\u001b[0;34m)\u001b[0m\u001b[0;34m\u001b[0m\u001b[0m\n\u001b[0;32m----> 5\u001b[0;31m \u001b[0;32mimport\u001b[0m \u001b[0mlibrosa\u001b[0m\u001b[0;34m\u001b[0m\u001b[0m\n\u001b[0m\u001b[1;32m      6\u001b[0m \u001b[0;32mfrom\u001b[0m \u001b[0mlibrosa\u001b[0m \u001b[0;32mimport\u001b[0m \u001b[0mdisplay\u001b[0m\u001b[0;34m\u001b[0m\u001b[0m\n",
      "\u001b[0;31mImportError\u001b[0m: No module named 'librosa'"
     ]
    }
   ],
   "source": [
    "import pandas as pd\n",
    "import numpy as np\n",
    "import matplotlib.pyplot as plt\n",
    "%matplotlib inline\n",
    "import librosa\n",
    "from librosa import display"
   ]
  },
  {
   "cell_type": "code",
   "execution_count": null,
   "metadata": {},
   "outputs": [],
   "source": [
    "# read in data\n",
    "file_path = '/content/drive/My Drive/CAPSTONE/data/test.csv'\n",
    "df_data = pd.read_csv(file_path)\n",
    "df_data = df_data.drop(columns=['Unnamed: 0'])\n",
    "\n",
    "test = df_data.head(1)\n",
    "\n",
    "def extract_samples(song):\n",
    "  # STEP 1: pull samples from row\n",
    "  samples = song.drop(columns=['song','sampling_rate','composer','label'])\n",
    "  samples = samples.to_numpy()\n",
    "  samples = samples.flatten()\n",
    "  samples = np.float32(samples)\n",
    "\n",
    "  # STEP 2: pull sampling rate from row\n",
    "  #sampling_rate = song['sampling_rate']\n",
    "  #sampling_rate = int(sampling_rate)\n",
    "\n",
    "  return samples, sampling_rate\n",
    "\n",
    "# extract samples\n",
    "samples, sampling_rate = extract_samples(test)\n",
    "\n",
    "def plot_amplitudes(samples, sampling_rate):\n",
    " # samples, sampling_rate = extract_samples(song)\n",
    "  plt.figure()\n",
    "  librosa.display.waveplot(y = samples,\n",
    "                           sr = sampling_rate)\n",
    "  plt.xlabel('Time (seconds)')\n",
    "  plt.ylabel('Amplitude')\n",
    "  plt.show();\n",
    "\n",
    "def plot_stft(samples, sampling_rate):\n",
    "  R = librosa.stft(samples)\n",
    "  Xdb = librosa.amplitude_to_db(abs(R))\n",
    "  plt.figure(figsize=(14,5))\n",
    "  librosa.display.specshow(Xdb, sr=sampling_rate, x_axis='time', y_axis='hz')\n",
    "  plt.colorbar();\n",
    "\n",
    "def plot_chroma(samples, sampling_rate):\n",
    "  chromagram = librosa.feature.chroma_stft(samples, sr=sampling_rate)\n",
    "  plt.figure(figsize=(15, 5))\n",
    "  librosa.display.specshow(chromagram, x_axis='time', y_axis='chroma', cmap='coolwarm')\n",
    "\n",
    "def plot_mel(samples, sampling_rate):\n",
    "  plt.figure(figsize=(10, 4))\n",
    "  S_dB = librosa.power_to_db(samples, ref=np.max)\n",
    "  librosa.display.specshow(S_dB, x_axis='time',\n",
    "                          y_axis='mel', sr=sampling_rate,\n",
    "                          )\n",
    "  plt.colorbar(format='%+2.0f dB')\n",
    "  plt.title('Mel-frequency spectrogram')\n",
    "  plt.tight_layout()\n",
    "  plt.show()\n",
    "\n",
    "\n",
    "plot_amplitudes(samples, sampling_rate)\n",
    "\n",
    "plot_stft(samples, sampling_rate)\n",
    "\n",
    "plot_chroma(samples, sampling_rate)\n",
    "\n",
    "plot_mel(samples, sampling_rate)"
   ]
  }
 ],
 "metadata": {
  "kernelspec": {
   "display_name": "Python 3",
   "language": "python",
   "name": "python3"
  },
  "language_info": {
   "codemirror_mode": {
    "name": "ipython",
    "version": 3
   },
   "file_extension": ".py",
   "mimetype": "text/x-python",
   "name": "python",
   "nbconvert_exporter": "python",
   "pygments_lexer": "ipython3",
   "version": "3.5.6"
  }
 },
 "nbformat": 4,
 "nbformat_minor": 4
}
