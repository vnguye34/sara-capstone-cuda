{
 "cells": [
  {
   "cell_type": "markdown",
   "metadata": {},
   "source": [
    "**Download Data from Spotify API**\n",
    "\n",
    "- Author(s): Sara Soueidan\n",
    "- Last Updated: 6/08/2020\n",
    "- Source(s): [giamic](https://github.com/giamic/music-analysis/blob/master/src/download_data_spotify.py)"
   ]
  },
  {
   "cell_type": "code",
   "execution_count": 30,
   "metadata": {},
   "outputs": [
    {
     "name": "stdout",
     "output_type": "stream",
     "text": [
      "Collecting spotipy\n",
      "  Downloading spotipy-2.12.0-py3-none-any.whl (18 kB)\n",
      "Requirement already satisfied: six>=1.10.0 in /Users/sarasoueidan/opt/anaconda3/envs/dsi/lib/python3.5/site-packages (from spotipy) (1.14.0)\n",
      "Requirement already satisfied: requests>=2.20.0 in /Users/sarasoueidan/opt/anaconda3/envs/dsi/lib/python3.5/site-packages (from spotipy) (2.23.0)\n",
      "Requirement already satisfied: urllib3!=1.25.0,!=1.25.1,<1.26,>=1.21.1 in /Users/sarasoueidan/opt/anaconda3/envs/dsi/lib/python3.5/site-packages (from requests>=2.20.0->spotipy) (1.25.9)\n",
      "Requirement already satisfied: chardet<4,>=3.0.2 in /Users/sarasoueidan/opt/anaconda3/envs/dsi/lib/python3.5/site-packages (from requests>=2.20.0->spotipy) (3.0.4)\n",
      "Requirement already satisfied: idna<3,>=2.5 in /Users/sarasoueidan/opt/anaconda3/envs/dsi/lib/python3.5/site-packages (from requests>=2.20.0->spotipy) (2.9)\n",
      "Requirement already satisfied: certifi>=2017.4.17 in /Users/sarasoueidan/opt/anaconda3/envs/dsi/lib/python3.5/site-packages (from requests>=2.20.0->spotipy) (2018.8.24)\n",
      "Installing collected packages: spotipy\n",
      "Successfully installed spotipy-2.12.0\n"
     ]
    }
   ],
   "source": [
    "!pip install spotipy\n"
   ]
  },
  {
   "cell_type": "markdown",
   "metadata": {},
   "source": [
    "**Library Imports**"
   ]
  },
  {
   "cell_type": "code",
   "execution_count": 111,
   "metadata": {},
   "outputs": [],
   "source": [
    "import pandas as pd\n",
    "\n",
    "import csv\n",
    "import json\n",
    "import logging\n",
    "import os\n",
    "import requests\n",
    "from pprint import pprint\n",
    "from spotipy.util import prompt_for_user_token\n",
    "from spotipy.oauth2 import SpotifyClientCredentials"
   ]
  },
  {
   "cell_type": "code",
   "execution_count": 150,
   "metadata": {},
   "outputs": [],
   "source": [
    "from urllib.request import urlretrieve"
   ]
  },
  {
   "cell_type": "markdown",
   "metadata": {},
   "source": [
    "**Credentials**"
   ]
  },
  {
   "cell_type": "code",
   "execution_count": 80,
   "metadata": {},
   "outputs": [],
   "source": [
    "creds = 'spotify_credentials.csv'"
   ]
  },
  {
   "cell_type": "code",
   "execution_count": 81,
   "metadata": {},
   "outputs": [],
   "source": [
    "with open(creds) as c:\n",
    "    csv = c.read()\n",
    "    csv = csv.split(',')\n",
    "    client_id = csv[1]\n",
    "    client_secret = csv[3]\n",
    "    \n",
    "redirect_uri = 'https://saraso2014.github.io/'\n",
    "\n",
    "SPOTIPY_CLIENT_ID=client_id\n",
    "SPOTIPY_CLIENT_SECRET=client_secret\n"
   ]
  },
  {
   "cell_type": "markdown",
   "metadata": {},
   "source": [
    "**Authorization**"
   ]
  },
  {
   "cell_type": "code",
   "execution_count": 82,
   "metadata": {},
   "outputs": [],
   "source": [
    "client_credentials_manager = SpotifyClientCredentials(SPOTIPY_CLIENT_ID, SPOTIPY_CLIENT_SECRET)\n",
    "sp = spotipy.Spotify(client_credentials_manager=client_credentials_manager)"
   ]
  },
  {
   "cell_type": "markdown",
   "metadata": {},
   "source": [
    "**Scraping**"
   ]
  },
  {
   "cell_type": "code",
   "execution_count": 189,
   "metadata": {},
   "outputs": [
    {
     "name": "stdout",
     "output_type": "stream",
     "text": [
      "Sonata_for_Four_Hands,_FP_8:_I._Prelude_modern.mp3\n",
      "Violin_Sonata_in_G_Major,_Op._134:_I._Andante_modern.mp3\n",
      "Concertino_for_Piano_Trio_&_String_Orchestra,_H._232:_I._Allegro_(con_brio)_modern.mp3\n",
      "Kammermusik_No._6,_Op._46,_No._1:_I._Massig_schnell,_majestatisch_modern.mp3\n",
      "All-Night_Vigil,_Op._37_\"Vespers\":_Come,_Let_Us_Worship_God,_Our_King_(Amen)_modern.mp3\n",
      "Menuet_antique_-_For_Orchestra,_M.7_modern.mp3\n",
      "Sonata_for_Two_Pianos_and_Percussion,_Sz._110:_III._Allegro_non_troppo_modern.mp3\n",
      "Sonata_for_Piano_No._5,_Op._53_modern.mp3\n",
      "Stravinsky:_Symphony_in_C:_I._Moderato_alla_breve_modern.mp3\n",
      "La_mer:_No._1._De_l'aube_a_midi_sur_la_mer_modern.mp3\n",
      "String_Quartet_No._2_in_A_Minor:_I._Prelude:_Allegro_appassionato_modern.mp3\n",
      "Das_Lied_von_der_Erde_(Song_of_the_Earth):_II._Der_Einsame_im_Herbst_(The_Lonely_One_in_Autumn)_modern.mp3\n",
      "Piano_Sonata_No._5_in_C_Major,_Op._38135:_I._Allegro_Tranquillo_modern.mp3\n",
      "Le_Poeme_de_l'extase_(The_Poem_of_Ecstasy),_Op._54,_\"Symphony_No._4\":_La_Poeme_de_l'extase_(The_Poem_of_Ecstasy),_Op._54,_\"Symphony_No._4\"_modern.mp3\n",
      "Lyrische_Suite:_IV._Adagio_appassionato_modern.mp3\n",
      "Violin_Concerto_No._1_in_A_Minor,_Op._77:_I._Nocturne._Moderato_modern.mp3\n",
      "Schoenberg:_6_Little_Piano_Pieces,_Op._19:_No._1_Leicht,_zart_modern.mp3\n",
      "Cello_Symphony,_Op.68:_I._Allegro_maestoso_modern.mp3\n",
      "String_Quartet_No._1_\"Kreutzer_Sonata\":_String_Quartet_No._1_\"Kreutzer_Sonata\":_I._Adagio._Con_moto_modern.mp3\n",
      "Arcana_modern.mp3\n",
      "Concerto_for_Orchestra,_Sz._116:_1._Introduzione_(Andante_non_troppo_-_Allegro_vivace_modern.mp3\n",
      "String_Quartet,_Op.28:_1._Mässig_modern.mp3\n",
      "The_Rite_of_Spring:_Part_Two:_The_Sacrifice:_Sacrificial_Dance_(The_Chosen_One)_modern.mp3\n",
      "String_Quartet_No._3,_Op._94:_I._Duets:_With_Moderate_Movement_modern.mp3\n",
      "Symphony_No.7,_Op.131:_1._Moderato_modern.mp3\n",
      "Pacific_231_modern.mp3\n",
      "Images,_Book_1,_L._110:_No._1._Reflets_dans_l'eau_modern.mp3\n",
      "The_Unanswered_Question_modern.mp3\n",
      "Violin_Konzert_(1935)_modern.mp3\n",
      "Symphonie_\"Mathis_der_Maler\":_1._Engelkonzert_modern.mp3\n",
      "String_Quartet_No._2_\"From_the_Monkey_Mountains\",_Op._7:_IV._Wild_Night_(Vivace_e_con_fuoco)_modern.mp3\n",
      "Symphony,_Op.21:_1._Ruhig_schreitend_modern.mp3\n",
      "Gaspard_de_la_nuit,_M._55:_I._Ondine_modern.mp3\n",
      "Symphony_No._8_in_D_Minor:_I._Fantasia:_Moderato-Presto-Andante...-Allegretto-Andante...-Allegro...-Andante...-Largamente-Tempo_I_modern.mp3\n",
      "Sonata_for_Violin_and_Piano_No.3:_2._Allegro_modern.mp3\n",
      "Janacek:_On_an_Overgrown_Path,_Volume_1,_JW_817:_V._They_chattered_like_swallows_(Con_moto_-_Meno_mosso)_modern.mp3\n",
      "Cello_Sonatina:_I._Modere_modern.mp3\n",
      "Symphony_No.4,_Op.29_-_\"The_Inextinguishable\":_1._Allegro_modern.mp3\n",
      "Quatuor_pour_la_fin_du_temps:_I._Liturgie_de_cristal_modern.mp3\n",
      "Gnossiennes:_n°_5_modern.mp3\n",
      "Turangalîla_Symphonie:_1._Introduction_modern.mp3\n",
      "Lamentatio_Jeremiae_Prophetae_for_Mixed_Chorus_a_Capella,_Op._93:_I._In_Coena_Domini,_Lectio_Prima_modern.mp3\n",
      "Sun-treader_modern.mp3\n",
      "Die_sieben_Todsünden:_Prologue._Andante_sostenuto_(Anna_I_and_Anna_II)_modern.mp3\n",
      "Symphony_No._7,_Op._95:_I._Molto_lento_modern.mp3\n",
      "Seven_Elegies:_Nach_der_Wendung_modern.mp3\n",
      "La_creation_du_monde,_Op._81_(version_for_wind_ensemble):_I._Overture:_Modere_modern.mp3\n",
      "Noches_en_los_jardines_de_España:_I._En_el_Generalife._Allegretto_tranquillo_e_misterioso_modern.mp3\n",
      "Der_ferne_Klang:_Act_III_Scene_15:_Grete!_Horst_Du_den_Ton?_(Fritz,_Grete)_modern.mp3\n",
      "Concerto_for_Guitar_and_Small_Orchestra;I_Allegro_preciso_modern.mp3\n"
     ]
    }
   ],
   "source": [
    "playlist_id = 'spotify:playlist:37i9dQZF1DX8ONeLSIu0Ai'\n",
    "\n",
    "results = sp.playlist_tracks(playlist_id)\n",
    "tracks = results['items']\n",
    "era = 'modern'\n",
    "\n",
    "list_era = [[]]\n",
    "\n",
    "for track in tracks:\n",
    "    preview_url = str(track['track']['preview_url'])\n",
    "    \n",
    "    if preview_url is not None:\n",
    "        track_info = []\n",
    "        track_info.append(track['track']['name'].replace(' ', '_').replace('/',''))\n",
    "        track_info.append(str(track['track']['preview_url']))\n",
    "        track_info.append(None)\n",
    "        track_info.append(era)\n",
    "\n",
    "        list_era.append(track_info)\n",
    "\n",
    "        file_name = '{}_{}.mp3'.format(track['track']['name'].replace(' ','_').replace('/',''), era)\n",
    "        local_path = os.path.join('data/' + file_name)\n",
    "        urlretrieve(test_url, local_path)\n",
    "    else:\n",
    "        pass\n",
    "    \n",
    "    print(file_name)\n",
    "\n",
    "df_era = pd.DataFrame(list_era,columns=['song','preview_url',None,'era'])"
   ]
  },
  {
   "cell_type": "code",
   "execution_count": null,
   "metadata": {},
   "outputs": [],
   "source": []
  }
 ],
 "metadata": {
  "kernelspec": {
   "display_name": "Python 3",
   "language": "python",
   "name": "python3"
  },
  "language_info": {
   "codemirror_mode": {
    "name": "ipython",
    "version": 3
   },
   "file_extension": ".py",
   "mimetype": "text/x-python",
   "name": "python",
   "nbconvert_exporter": "python",
   "pygments_lexer": "ipython3",
   "version": "3.5.6"
  }
 },
 "nbformat": 4,
 "nbformat_minor": 4
}
